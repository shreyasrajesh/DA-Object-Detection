{
 "cells": [
  {
   "cell_type": "code",
   "execution_count": 27,
   "metadata": {},
   "outputs": [],
   "source": [
    "import os\n",
    "import json"
   ]
  },
  {
   "cell_type": "code",
   "execution_count": 29,
   "metadata": {},
   "outputs": [],
   "source": [
    "files = ['instancesonly_filtered_test','instancesonly_filtered_val','instancesonly_filtered_train']\n",
    "strings = ['_foggy_beta_0.005','_foggy_beta_0.01','_foggy_beta_0.02']\n",
    "for string in strings:\n",
    "    for file_name in files:\n",
    "        f = open(file_name+'.json')\n",
    "        data = json.load(f)\n",
    "        for i in data['images']:\n",
    "            t = i['file_name'].split('_')\n",
    "            i['file_name'] = t[0] +'/'+'_'.join(j for j in t if 'gtFine' not in j)\n",
    "            t = i['file_name'].split('.')\n",
    "            i['file_name'] = \"\".join(j for j in t[0:-1]) + string + '.'+ t[-1]\n",
    "\n",
    "        with open(file_name+string+'.json', 'w') as json_file:\n",
    "            json.dump(data, json_file)\n",
    "# json.load(file_name)"
   ]
  }
 ],
 "metadata": {
  "kernelspec": {
   "display_name": "Python 3 (clean)",
   "language": "python",
   "name": "python3_clean"
  },
  "language_info": {
   "codemirror_mode": {
    "name": "ipython",
    "version": 3
   },
   "file_extension": ".py",
   "mimetype": "text/x-python",
   "name": "python",
   "nbconvert_exporter": "python",
   "pygments_lexer": "ipython3",
   "version": "3.7.6"
  }
 },
 "nbformat": 4,
 "nbformat_minor": 4
}
